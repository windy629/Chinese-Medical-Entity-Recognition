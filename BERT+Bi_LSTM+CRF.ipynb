{
  "nbformat": 4,
  "nbformat_minor": 0,
  "metadata": {
    "colab": {
      "name": "github.ipynb",
      "provenance": []
    },
    "kernelspec": {
      "name": "python3",
      "display_name": "Python 3"
    },
    "language_info": {
      "name": "python"
    }
  },
  "cells": [
    {
      "cell_type": "code",
      "execution_count": 2,
      "metadata": {
        "id": "O5s4Uvtx0AnL",
        "outputId": "85cff981-e938-4661-d704-907f9edb6e6e",
        "colab": {
          "base_uri": "https://localhost:8080/"
        }
      },
      "outputs": [
        {
          "output_type": "stream",
          "name": "stdout",
          "text": [
            "/content/drive/MyDrive\n"
          ]
        }
      ],
      "source": [
        "cd /content/drive/MyDrive"
      ]
    },
    {
      "cell_type": "code",
      "source": [
        "from google.colab import drive\n",
        "drive.mount('/content/drive')"
      ],
      "metadata": {
        "id": "-hramxqupdBb",
        "outputId": "36cd3b4a-f688-4ee2-8d5a-fb415b6006d0",
        "colab": {
          "base_uri": "https://localhost:8080/"
        }
      },
      "execution_count": 1,
      "outputs": [
        {
          "output_type": "stream",
          "name": "stdout",
          "text": [
            "Mounted at /content/drive\n"
          ]
        }
      ]
    },
    {
      "cell_type": "code",
      "source": [
        "import numpy as np\n",
        "import os\n",
        "from sklearn.model_selection import train_test_split"
      ],
      "metadata": {
        "id": "LqyYaqfZnIZ_"
      },
      "execution_count": 3,
      "outputs": []
    },
    {
      "cell_type": "code",
      "source": [
        "label_dict = {'药物':'DRUG',\n",
        "              '解剖部位':'BODY',\n",
        "              '疾病和诊断':'DISEASES',\n",
        "              '影像检查':'EXAMINATIONS',\n",
        "              '实验室检验':'TEST',\n",
        "              '手术':'TREATMENT'}\n",
        "\n",
        "TRAIN = '/content/drive/MyDrive/CCKS_2019_Task1/processed_data/train_dataset.txt'\n",
        "VALID = '/content/drive/MyDrive/CCKS_2019_Task1/processed_data/val_dataset.txt'\n",
        "TEST = '/content/drive/MyDrive/CCKS_2019_Task1/processed_data/test_dataset.txt'\n",
        "\n",
        "def sentence2BIOlabel(sentence, label_from_file):\n",
        "    \"\"\" BIO Tagging \"\"\"\n",
        "    sentence_label = ['O']*len(sentence)\n",
        "    if label_from_file=='':\n",
        "        return sentence_label\n",
        "\n",
        "    for line in label_from_file.split('\\n'):\n",
        "\n",
        "        entity_info = line.strip().split('\\t')\n",
        "        start_index = int(entity_info[1])\n",
        "        end_index = int(entity_info[2])\n",
        "        entity_label = label_dict[entity_info[3]]\n",
        "        # Frist entity: B-xx\n",
        "        sentence_label[start_index] = 'B-'+entity_label\n",
        "        # Other: I-xx\n",
        "        for i in range(start_index+1, end_index):\n",
        "            sentence_label[i] = 'I-'+entity_label\n",
        "    return sentence_label\n",
        "\n",
        "def loadRawData(fileName):\n",
        "    \"\"\" Loading raw data and tagging \"\"\"\n",
        "    sentence_list = []\n",
        "    label_list = []\n",
        "\n",
        "    for file_name in os.listdir(fileName):\n",
        "\n",
        "        if '.DS_Store' == file_name:\n",
        "            continue\n",
        "\n",
        "        if 'original' in file_name:\n",
        "            org_file = fileName + file_name\n",
        "            lab_file = fileName + file_name.replace('-original', '')\n",
        "\n",
        "            with open(org_file, encoding='utf-8') as f:\n",
        "                content = f.read().strip()\n",
        "\n",
        "            with open(lab_file, encoding='utf-8') as f:\n",
        "                content_label = f.read().strip()\n",
        "\n",
        "            sentence_label = sentence2BIOlabel(content, content_label)\n",
        "            sentence_list.append(content)\n",
        "            label_list.append(sentence_label)\n",
        "\n",
        "    return sentence_list, label_list\n",
        "\n",
        "def Save_data(filename, texts, tags):\n",
        "  \"\"\" Processing to files in neeed format \"\"\"\n",
        "  with open(filename, 'w') as f:\n",
        "    for sent, tag in zip(texts, tags):\n",
        "        size = len(sent)\n",
        "        for i in range(size):\n",
        "          f.write(sent[i])\n",
        "          f.write('\\t')\n",
        "          f.write(tag[i])\n",
        "          f.write('\\n')"
      ],
      "metadata": {
        "id": "1yw17zB0nmzb"
      },
      "execution_count": 4,
      "outputs": []
    },
    {
      "cell_type": "code",
      "source": [
        "# Training data\n",
        "sentence_list, label_list = loadRawData('./CCKS_2019_Task1/data/')\n",
        "# Test data\n",
        "sentence_list_test, label_list_test = loadRawData('./CCKS_2019_Task1/data_test/')\n",
        "\n",
        "# Split dataset\n",
        "words = [list(sent) for sent in sentence_list]\n",
        "t_words = [list(sent) for sent in sentence_list_test]\n",
        "tags = label_list\n",
        "t_tags = label_list_test\n",
        "train_texts, val_texts, train_tags, val_tags = train_test_split(words, tags, test_size=.2)\n",
        "test_texts, test_tags = t_words, t_tags\n",
        "\n",
        "# Obtain training, validating and testing files\n",
        "Save_data(TRAIN, train_texts, train_tags)\n",
        "Save_data(VALID, val_texts, val_tags)\n",
        "Save_data(TEST, test_texts, test_tags)"
      ],
      "metadata": {
        "id": "fGZUEmdBo0BK"
      },
      "execution_count": 5,
      "outputs": []
    },
    {
      "cell_type": "code",
      "source": [
        "pip install tokenizers --only-binary="
      ],
      "metadata": {
        "id": "8qEhHM64sBmU",
        "outputId": "cc9dbbe9-1bbe-41f1-c23a-92350bf16877",
        "colab": {
          "base_uri": "https://localhost:8080/"
        }
      },
      "execution_count": 8,
      "outputs": [
        {
          "output_type": "stream",
          "name": "stdout",
          "text": [
            "Requirement already satisfied: tokenizers in /usr/local/lib/python3.10/dist-packages (0.19.1)\n",
            "Requirement already satisfied: huggingface-hub<1.0,>=0.16.4 in /usr/local/lib/python3.10/dist-packages (from tokenizers) (0.24.7)\n",
            "Requirement already satisfied: filelock in /usr/local/lib/python3.10/dist-packages (from huggingface-hub<1.0,>=0.16.4->tokenizers) (3.16.1)\n",
            "Requirement already satisfied: fsspec>=2023.5.0 in /usr/local/lib/python3.10/dist-packages (from huggingface-hub<1.0,>=0.16.4->tokenizers) (2024.6.1)\n",
            "Requirement already satisfied: packaging>=20.9 in /usr/local/lib/python3.10/dist-packages (from huggingface-hub<1.0,>=0.16.4->tokenizers) (24.1)\n",
            "Requirement already satisfied: pyyaml>=5.1 in /usr/local/lib/python3.10/dist-packages (from huggingface-hub<1.0,>=0.16.4->tokenizers) (6.0.2)\n",
            "Requirement already satisfied: requests in /usr/local/lib/python3.10/dist-packages (from huggingface-hub<1.0,>=0.16.4->tokenizers) (2.32.3)\n",
            "Requirement already satisfied: tqdm>=4.42.1 in /usr/local/lib/python3.10/dist-packages (from huggingface-hub<1.0,>=0.16.4->tokenizers) (4.66.5)\n",
            "Requirement already satisfied: typing-extensions>=3.7.4.3 in /usr/local/lib/python3.10/dist-packages (from huggingface-hub<1.0,>=0.16.4->tokenizers) (4.12.2)\n",
            "Requirement already satisfied: charset-normalizer<4,>=2 in /usr/local/lib/python3.10/dist-packages (from requests->huggingface-hub<1.0,>=0.16.4->tokenizers) (3.4.0)\n",
            "Requirement already satisfied: idna<4,>=2.5 in /usr/local/lib/python3.10/dist-packages (from requests->huggingface-hub<1.0,>=0.16.4->tokenizers) (3.10)\n",
            "Requirement already satisfied: urllib3<3,>=1.21.1 in /usr/local/lib/python3.10/dist-packages (from requests->huggingface-hub<1.0,>=0.16.4->tokenizers) (2.2.3)\n",
            "Requirement already satisfied: certifi>=2017.4.17 in /usr/local/lib/python3.10/dist-packages (from requests->huggingface-hub<1.0,>=0.16.4->tokenizers) (2024.8.30)\n"
          ]
        }
      ]
    },
    {
      "cell_type": "code",
      "source": [
        "pip install --upgrade pip setuptools wheel"
      ],
      "metadata": {
        "id": "UGXHvLsgsKyl",
        "outputId": "4a0023d7-034a-44bf-b8be-a16efc4fee19",
        "colab": {
          "base_uri": "https://localhost:8080/",
          "height": 530
        }
      },
      "execution_count": 10,
      "outputs": [
        {
          "output_type": "stream",
          "name": "stdout",
          "text": [
            "Requirement already satisfied: pip in /usr/local/lib/python3.10/dist-packages (24.1.2)\n",
            "Collecting pip\n",
            "  Downloading pip-24.2-py3-none-any.whl.metadata (3.6 kB)\n",
            "Requirement already satisfied: setuptools in /usr/local/lib/python3.10/dist-packages (75.1.0)\n",
            "Collecting setuptools\n",
            "  Using cached setuptools-75.2.0-py3-none-any.whl.metadata (6.9 kB)\n",
            "Requirement already satisfied: wheel in /usr/local/lib/python3.10/dist-packages (0.44.0)\n",
            "Downloading pip-24.2-py3-none-any.whl (1.8 MB)\n",
            "\u001b[2K   \u001b[90m━━━━━━━━━━━━━━━━━━━━━━━━━━━━━━━━━━━━━━━━\u001b[0m \u001b[32m1.8/1.8 MB\u001b[0m \u001b[31m16.9 MB/s\u001b[0m eta \u001b[36m0:00:00\u001b[0m\n",
            "\u001b[?25hUsing cached setuptools-75.2.0-py3-none-any.whl (1.2 MB)\n",
            "Installing collected packages: setuptools, pip\n",
            "  Attempting uninstall: setuptools\n",
            "    Found existing installation: setuptools 75.1.0\n",
            "    Uninstalling setuptools-75.1.0:\n",
            "      Successfully uninstalled setuptools-75.1.0\n",
            "  Attempting uninstall: pip\n",
            "    Found existing installation: pip 24.1.2\n",
            "    Uninstalling pip-24.1.2:\n",
            "      Successfully uninstalled pip-24.1.2\n",
            "\u001b[31mERROR: pip's dependency resolver does not currently take into account all the packages that are installed. This behaviour is the source of the following dependency conflicts.\n",
            "ipython 7.34.0 requires jedi>=0.16, which is not installed.\u001b[0m\u001b[31m\n",
            "\u001b[0mSuccessfully installed pip-24.2 setuptools-75.2.0\n"
          ]
        },
        {
          "output_type": "display_data",
          "data": {
            "application/vnd.colab-display-data+json": {
              "pip_warning": {
                "packages": [
                  "_distutils_hack",
                  "pkg_resources",
                  "setuptools"
                ]
              },
              "id": "b386081c1e824686b70cdf7a43e308fd"
            }
          },
          "metadata": {}
        }
      ]
    },
    {
      "cell_type": "code",
      "source": [
        "pip install transformers==3.4"
      ],
      "metadata": {
        "id": "EvcXRCPxo3Ln",
        "outputId": "73ecf384-a537-4e9a-8e1e-048309cf3700",
        "colab": {
          "base_uri": "https://localhost:8080/"
        }
      },
      "execution_count": 9,
      "outputs": [
        {
          "output_type": "stream",
          "name": "stdout",
          "text": [
            "Collecting transformers==3.4\n",
            "  Using cached transformers-3.4.0-py3-none-any.whl.metadata (31 kB)\n",
            "Requirement already satisfied: numpy in /usr/local/lib/python3.10/dist-packages (from transformers==3.4) (1.26.4)\n",
            "Collecting tokenizers==0.9.2 (from transformers==3.4)\n",
            "  Using cached tokenizers-0.9.2.tar.gz (170 kB)\n",
            "  Installing build dependencies ... \u001b[?25l\u001b[?25hdone\n",
            "  Getting requirements to build wheel ... \u001b[?25l\u001b[?25hdone\n",
            "  Preparing metadata (pyproject.toml) ... \u001b[?25l\u001b[?25hdone\n",
            "Requirement already satisfied: packaging in /usr/local/lib/python3.10/dist-packages (from transformers==3.4) (24.1)\n",
            "Requirement already satisfied: filelock in /usr/local/lib/python3.10/dist-packages (from transformers==3.4) (3.16.1)\n",
            "Requirement already satisfied: requests in /usr/local/lib/python3.10/dist-packages (from transformers==3.4) (2.32.3)\n",
            "Requirement already satisfied: tqdm>=4.27 in /usr/local/lib/python3.10/dist-packages (from transformers==3.4) (4.66.5)\n",
            "Requirement already satisfied: regex!=2019.12.17 in /usr/local/lib/python3.10/dist-packages (from transformers==3.4) (2024.9.11)\n",
            "Requirement already satisfied: sentencepiece!=0.1.92 in /usr/local/lib/python3.10/dist-packages (from transformers==3.4) (0.2.0)\n",
            "Requirement already satisfied: protobuf in /usr/local/lib/python3.10/dist-packages (from transformers==3.4) (3.20.3)\n",
            "Collecting sacremoses (from transformers==3.4)\n",
            "  Using cached sacremoses-0.1.1-py3-none-any.whl.metadata (8.3 kB)\n",
            "Requirement already satisfied: charset-normalizer<4,>=2 in /usr/local/lib/python3.10/dist-packages (from requests->transformers==3.4) (3.4.0)\n",
            "Requirement already satisfied: idna<4,>=2.5 in /usr/local/lib/python3.10/dist-packages (from requests->transformers==3.4) (3.10)\n",
            "Requirement already satisfied: urllib3<3,>=1.21.1 in /usr/local/lib/python3.10/dist-packages (from requests->transformers==3.4) (2.2.3)\n",
            "Requirement already satisfied: certifi>=2017.4.17 in /usr/local/lib/python3.10/dist-packages (from requests->transformers==3.4) (2024.8.30)\n",
            "Requirement already satisfied: click in /usr/local/lib/python3.10/dist-packages (from sacremoses->transformers==3.4) (8.1.7)\n",
            "Requirement already satisfied: joblib in /usr/local/lib/python3.10/dist-packages (from sacremoses->transformers==3.4) (1.4.2)\n",
            "Using cached transformers-3.4.0-py3-none-any.whl (1.3 MB)\n",
            "Using cached sacremoses-0.1.1-py3-none-any.whl (897 kB)\n",
            "Building wheels for collected packages: tokenizers\n",
            "  \u001b[1;31merror\u001b[0m: \u001b[1msubprocess-exited-with-error\u001b[0m\n",
            "  \n",
            "  \u001b[31m×\u001b[0m \u001b[32mBuilding wheel for tokenizers \u001b[0m\u001b[1;32m(\u001b[0m\u001b[32mpyproject.toml\u001b[0m\u001b[1;32m)\u001b[0m did not run successfully.\n",
            "  \u001b[31m│\u001b[0m exit code: \u001b[1;36m1\u001b[0m\n",
            "  \u001b[31m╰─>\u001b[0m See above for output.\n",
            "  \n",
            "  \u001b[1;35mnote\u001b[0m: This error originates from a subprocess, and is likely not a problem with pip.\n",
            "  Building wheel for tokenizers (pyproject.toml) ... \u001b[?25l\u001b[?25herror\n",
            "\u001b[31m  ERROR: Failed building wheel for tokenizers\u001b[0m\u001b[31m\n",
            "\u001b[0mFailed to build tokenizers\n",
            "\u001b[31mERROR: ERROR: Failed to build installable wheels for some pyproject.toml based projects (tokenizers)\u001b[0m\u001b[31m\n",
            "\u001b[0m"
          ]
        }
      ]
    },
    {
      "cell_type": "code",
      "source": [
        "pip install pytorch-crf"
      ],
      "metadata": {
        "id": "kSi5VYRNo3Nx"
      },
      "execution_count": null,
      "outputs": []
    },
    {
      "cell_type": "code",
      "source": [
        "!python main.py --n_epochs 30"
      ],
      "metadata": {
        "id": "FonoUHo1o3Pf"
      },
      "execution_count": null,
      "outputs": []
    }
  ]
}